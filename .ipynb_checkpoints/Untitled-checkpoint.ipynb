{
 "cells": [
  {
   "cell_type": "code",
   "execution_count": 15,
   "id": "122ea79b",
   "metadata": {},
   "outputs": [
    {
     "ename": "ValueError",
     "evalue": "not enough values to unpack (expected 2, got 1)",
     "output_type": "error",
     "traceback": [
      "\u001b[1;31m---------------------------------------------------------------------------\u001b[0m",
      "\u001b[1;31mValueError\u001b[0m                                Traceback (most recent call last)",
      "Input \u001b[1;32mIn [15]\u001b[0m, in \u001b[0;36m<cell line: 53>\u001b[1;34m()\u001b[0m\n\u001b[0;32m     50\u001b[0m start_station \u001b[38;5;241m=\u001b[39m \u001b[38;5;124m'\u001b[39m\u001b[38;5;124mABR\u001b[39m\u001b[38;5;124m'\u001b[39m\n\u001b[0;32m     51\u001b[0m end_station \u001b[38;5;241m=\u001b[39m \u001b[38;5;124m'\u001b[39m\u001b[38;5;124mJU\u001b[39m\u001b[38;5;124m'\u001b[39m\n\u001b[1;32m---> 53\u001b[0m connections \u001b[38;5;241m=\u001b[39m \u001b[43mfind_connections\u001b[49m\u001b[43m(\u001b[49m\u001b[43mgraph_data\u001b[49m\u001b[43m,\u001b[49m\u001b[43m \u001b[49m\u001b[43mstart_station\u001b[49m\u001b[43m,\u001b[49m\u001b[43m \u001b[49m\u001b[43mend_station\u001b[49m\u001b[43m)\u001b[49m\n\u001b[0;32m     55\u001b[0m \u001b[38;5;66;03m# Output connections\u001b[39;00m\n\u001b[0;32m     56\u001b[0m \u001b[38;5;28mprint\u001b[39m(\u001b[38;5;124m\"\u001b[39m\u001b[38;5;124mConnections:\u001b[39m\u001b[38;5;124m\"\u001b[39m)\n",
      "Input \u001b[1;32mIn [15]\u001b[0m, in \u001b[0;36mfind_connections\u001b[1;34m(graph, start, end)\u001b[0m\n\u001b[0;32m     24\u001b[0m \u001b[38;5;28;01mdef\u001b[39;00m \u001b[38;5;21mfind_connections\u001b[39m(graph, start, end):\n\u001b[1;32m---> 25\u001b[0m     distances \u001b[38;5;241m=\u001b[39m \u001b[43mdijkstra\u001b[49m\u001b[43m(\u001b[49m\u001b[43mgraph\u001b[49m\u001b[43m,\u001b[49m\u001b[43m \u001b[49m\u001b[43mstart\u001b[49m\u001b[43m)\u001b[49m\n\u001b[0;32m     26\u001b[0m     path \u001b[38;5;241m=\u001b[39m [end]\n\u001b[0;32m     27\u001b[0m     node \u001b[38;5;241m=\u001b[39m end\n",
      "Input \u001b[1;32mIn [15]\u001b[0m, in \u001b[0;36mdijkstra\u001b[1;34m(graph, start)\u001b[0m\n\u001b[0;32m     10\u001b[0m current_distance, current_node \u001b[38;5;241m=\u001b[39m heapq\u001b[38;5;241m.\u001b[39mheappop(queue)\n\u001b[0;32m     11\u001b[0m visited\u001b[38;5;241m.\u001b[39madd(current_node)\n\u001b[1;32m---> 13\u001b[0m \u001b[38;5;28;01mfor\u001b[39;00m neighbor, train_info_list \u001b[38;5;129;01min\u001b[39;00m graph[current_node]:\n\u001b[0;32m     14\u001b[0m     \u001b[38;5;28;01mfor\u001b[39;00m train_info \u001b[38;5;129;01min\u001b[39;00m train_info_list:\n\u001b[0;32m     15\u001b[0m         train_number, _, _, weight \u001b[38;5;241m=\u001b[39m train_info\u001b[38;5;241m.\u001b[39mreplace(\u001b[38;5;124m\"\u001b[39m\u001b[38;5;124m'\u001b[39m\u001b[38;5;124m\"\u001b[39m, \u001b[38;5;124m\"\u001b[39m\u001b[38;5;124m\"\u001b[39m)\u001b[38;5;241m.\u001b[39msplit(\u001b[38;5;124m\"\u001b[39m\u001b[38;5;124m,\u001b[39m\u001b[38;5;124m\"\u001b[39m)\n",
      "\u001b[1;31mValueError\u001b[0m: not enough values to unpack (expected 2, got 1)"
     ]
    }
   ],
   "source": [
    "import heapq\n",
    "\n",
    "def dijkstra(graph, start):\n",
    "    distances = {node: float('inf') for node in graph}\n",
    "    distances[start] = 0\n",
    "    queue = [(0, start)]\n",
    "    visited = set()\n",
    "\n",
    "    while queue:\n",
    "        current_distance, current_node = heapq.heappop(queue)\n",
    "        visited.add(current_node)\n",
    "\n",
    "        for neighbor, train_info_list in graph[current_node]:\n",
    "            for train_info in train_info_list:\n",
    "                train_number, _, _, weight = train_info.replace(\"'\", \"\").split(\",\")\n",
    "                if neighbor not in visited:\n",
    "                    distance = current_distance + int(weight)\n",
    "                    if distance < distances[neighbor]:\n",
    "                        distances[neighbor] = distance\n",
    "                        heapq.heappush(queue, (distance, neighbor))\n",
    "\n",
    "    return distances\n",
    "\n",
    "def find_connections(graph, start, end):\n",
    "    distances = dijkstra(graph, start)\n",
    "    path = [end]\n",
    "    node = end\n",
    "\n",
    "    while node != start:\n",
    "        for neighbor, train_info_list in graph[node]:\n",
    "            for train_info in train_info_list:\n",
    "                train_number, _, _, train_weight = train_info.replace(\"'\", \"\").split(\",\")\n",
    "                if distances[node] == distances[neighbor] + int(train_weight):\n",
    "                    path.append(neighbor)\n",
    "                    node = neighbor\n",
    "                    break\n",
    "\n",
    "    path.reverse()\n",
    "    return path\n",
    "\n",
    "# Updated graph data with the new format\n",
    "graph_data = {\n",
    "    'ABR': [[\"PNU,'12547',9,734\"], [\"JU,'19107',3,455\"]],\n",
    "    'ACL': [[\"AML,'59440',44,274\"], [\"AML,'59442',53,274\"]],\n",
    "    'ADD': [[\"VDA,'59440',16,80\"], [\"VDA,'59442',16,80\"]],\n",
    "    # Rest of the data...\n",
    "}\n",
    "\n",
    "# Start and end stations\n",
    "start_station = 'ABR'\n",
    "end_station = 'JU'\n",
    "\n",
    "connections = find_connections(graph_data, start_station, end_station)\n",
    "\n",
    "# Output connections\n",
    "print(\"Connections:\")\n",
    "for i in range(len(connections) - 1):\n",
    "    current_station = connections[i]\n",
    "    next_station = connections[i + 1]\n",
    "    for neighbor, train_info_list in graph_data[current_station]:\n",
    "        for train_info in train_info_list:\n",
    "            if neighbor == next_station:\n",
    "                train_number, _, _, weight = train_info.replace(\"'\", \"\").split(\",\")\n",
    "                print(f\"{current_station} -> Train: {train_number.strip()} - Weight: {weight.strip()} -> {next_station}\")\n",
    "                break"
   ]
  },
  {
   "cell_type": "code",
   "execution_count": null,
   "id": "396ff3ce",
   "metadata": {},
   "outputs": [],
   "source": []
  }
 ],
 "metadata": {
  "kernelspec": {
   "display_name": "Python 3 (ipykernel)",
   "language": "python",
   "name": "python3"
  },
  "language_info": {
   "codemirror_mode": {
    "name": "ipython",
    "version": 3
   },
   "file_extension": ".py",
   "mimetype": "text/x-python",
   "name": "python",
   "nbconvert_exporter": "python",
   "pygments_lexer": "ipython3",
   "version": "3.9.12"
  }
 },
 "nbformat": 4,
 "nbformat_minor": 5
}
