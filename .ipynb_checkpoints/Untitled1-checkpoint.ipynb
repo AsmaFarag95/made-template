{
 "cells": [
  {
   "cell_type": "code",
   "execution_count": 19,
   "id": "f464e947",
   "metadata": {},
   "outputs": [
    {
     "name": "stdout",
     "output_type": "stream",
     "text": [
      "Train connections from JAM  to DWK :\n",
      "18401 : JAM  -> KMBL; 18401 : KMBL -> DWK \n"
     ]
    }
   ],
   "source": [
    "import heapq\n",
    "import csv\n",
    "import pprint\n",
    "import pandas as pd\n",
    "from collections import defaultdict\n",
    " \n",
    "import heapq\n",
    "\n",
    "def find_train_connections(graph, start_station, end_station):\n",
    "    # Create a priority queue to store the stations to be visited\n",
    "    pq = [(0, start_station, [])]\n",
    "    # Create a visited set to track the visited stations\n",
    "    visited = set()\n",
    "\n",
    "    while pq:\n",
    "        stops, current_station, path = heapq.heappop(pq)\n",
    "        \n",
    "        # If the current station is the destination, return the path\n",
    "        if current_station == end_station:\n",
    "            return path\n",
    "\n",
    "        # Skip if the station has already been visited\n",
    "        if current_station in visited:\n",
    "            continue\n",
    "\n",
    "        # Mark the current station as visited\n",
    "        visited.add(current_station)\n",
    "\n",
    "        # Explore the neighboring stations\n",
    "        for neighbor in graph[current_station]:\n",
    "            neighbor_station, train_no, stops, distance = neighbor\n",
    "            heapq.heappush(pq, (stops, neighbor_station, path + [(current_station, train_no)]))\n",
    "\n",
    "    # If no path is found, return None\n",
    "    return None\n",
    "\n",
    "# Graph data\n",
    "df = pd.read_csv(r'C:\\\\Users\\\\mujeeb\\\\Downloads\\\\assignment-main (1)\\\\assignment-main\\\\mini-schedule.csv')\n",
    "pretty_print = pprint.PrettyPrinter()\n",
    "stations = df['station Code'].drop_duplicates().values.tolist() \n",
    "graph_data = { station : [] for station in stations }\n",
    "trains=df[\"Train No.\"].drop_duplicates().values.tolist() \n",
    "for ii,i in enumerate(trains):\n",
    "    temp=df.loc[(df['Train No.'] == i)].values.tolist()\n",
    "    for jj,j in enumerate(temp):\n",
    "                 for xx,x in enumerate(stations):\n",
    "                    if j[3] == x and jj < len(temp)-1:\n",
    "                        graph_data[j[3]].append([str(temp[jj+1][3]),str((temp[jj+1][0]).replace(\"'\",\"\")),int(temp[jj+1][2]),int(temp[jj+1][7])])\n",
    " \n",
    "start_station = 'JAM '\n",
    "end_station = 'DWK '\n",
    "path = find_train_connections(graph_data, start_station, end_station)\n",
    "\n",
    "if path:\n",
    "    print(f\"Train connections from {start_station} to {end_station}:\")\n",
    "    for i, (station, train_no) in enumerate(path):\n",
    "        if i != len(path) - 1:\n",
    "            next_station, next_train_no = path[i + 1]\n",
    "            print(f\"{train_no} : {station} -> {next_station}; \", end=\"\")\n",
    "        else:\n",
    "            print(f\"{train_no} : {station} -> {end_station}\")\n",
    "else:\n",
    "    print(f\"No train connections found from {start_station} to {end_station}.\")\n"
   ]
  },
  {
   "cell_type": "code",
   "execution_count": null,
   "id": "31cc3040",
   "metadata": {},
   "outputs": [],
   "source": []
  }
 ],
 "metadata": {
  "kernelspec": {
   "display_name": "Python 3 (ipykernel)",
   "language": "python",
   "name": "python3"
  },
  "language_info": {
   "codemirror_mode": {
    "name": "ipython",
    "version": 3
   },
   "file_extension": ".py",
   "mimetype": "text/x-python",
   "name": "python",
   "nbconvert_exporter": "python",
   "pygments_lexer": "ipython3",
   "version": "3.9.12"
  }
 },
 "nbformat": 4,
 "nbformat_minor": 5
}
